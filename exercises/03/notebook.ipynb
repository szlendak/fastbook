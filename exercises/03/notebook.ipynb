{
 "cells": [
  {
   "cell_type": "code",
   "execution_count": 47,
   "metadata": {},
   "outputs": [],
   "source": [
    "from fastai.vision.utils import URLs, untar_data\n",
    "from pathlib import Path\n",
    "path = untar_data(URLs.MNIST)"
   ]
  },
  {
   "cell_type": "code",
   "execution_count": 48,
   "metadata": {},
   "outputs": [
    {
     "data": {
      "text/plain": [
       "(#5923) [Path('/Users/szlendak/.fastai/data/mnist_png/training/0/16585.png'),Path('/Users/szlendak/.fastai/data/mnist_png/training/0/24537.png'),Path('/Users/szlendak/.fastai/data/mnist_png/training/0/25629.png'),Path('/Users/szlendak/.fastai/data/mnist_png/training/0/20751.png'),Path('/Users/szlendak/.fastai/data/mnist_png/training/0/34730.png'),Path('/Users/szlendak/.fastai/data/mnist_png/training/0/15926.png'),Path('/Users/szlendak/.fastai/data/mnist_png/training/0/22152.png'),Path('/Users/szlendak/.fastai/data/mnist_png/training/0/35348.png'),Path('/Users/szlendak/.fastai/data/mnist_png/training/0/22634.png'),Path('/Users/szlendak/.fastai/data/mnist_png/training/0/6819.png'),Path('/Users/szlendak/.fastai/data/mnist_png/training/0/32427.png'),Path('/Users/szlendak/.fastai/data/mnist_png/training/0/24245.png'),Path('/Users/szlendak/.fastai/data/mnist_png/training/0/33739.png'),Path('/Users/szlendak/.fastai/data/mnist_png/training/0/44599.png'),Path('/Users/szlendak/.fastai/data/mnist_png/training/0/12907.png'),Path('/Users/szlendak/.fastai/data/mnist_png/training/0/38644.png'),Path('/Users/szlendak/.fastai/data/mnist_png/training/0/28457.png'),Path('/Users/szlendak/.fastai/data/mnist_png/training/0/40099.png'),Path('/Users/szlendak/.fastai/data/mnist_png/training/0/49903.png'),Path('/Users/szlendak/.fastai/data/mnist_png/training/0/26308.png')...]"
      ]
     },
     "execution_count": 48,
     "metadata": {},
     "output_type": "execute_result"
    }
   ],
   "source": [
    "(path / \"training\" / \"0\").ls()"
   ]
  },
  {
   "cell_type": "code",
   "execution_count": 49,
   "metadata": {},
   "outputs": [
    {
     "data": {
      "text/plain": [
       "(28, 28)"
      ]
     },
     "execution_count": 49,
     "metadata": {},
     "output_type": "execute_result"
    }
   ],
   "source": [
    "# Let's explore one example\n",
    "from fastai.vision.data import Image\n",
    "\n",
    "file = Image.open(Path('/Users/szlendak/.fastai/data/mnist_png/training/9/36655.png'))\n",
    "file.shape"
   ]
  },
  {
   "cell_type": "code",
   "execution_count": 50,
   "metadata": {},
   "outputs": [],
   "source": [
    "import numpy as np\n",
    "import torch\n",
    "from typing import Literal\n",
    "\n",
    "def get_tensor_list(i: int, dataset: Literal[\"training\", \"testing\"]) -> list[torch.Tensor]:\n",
    "    digit_path = Path(path / dataset / str(i))\n",
    "    return [torch.tensor(np.array(Image.open(img_path))).view(-1, 28 * 28).squeeze(0)/255 for img_path in digit_path.ls()]\n",
    "\n",
    "data_dict_train = {i: get_tensor_list(i, \"training\") for i in range(10)}\n",
    "data_dict_test = {i: get_tensor_list(i, \"testing\") for i in range(10)}"
   ]
  },
  {
   "cell_type": "code",
   "execution_count": 51,
   "metadata": {},
   "outputs": [],
   "source": [
    "train_ds_list = [(tensor, label) for label, category in data_dict_train.items() for tensor in category]\n",
    "test_ds_list = [(tensor, label) for label, category in data_dict_test.items() for tensor in category]"
   ]
  },
  {
   "cell_type": "code",
   "execution_count": 52,
   "metadata": {},
   "outputs": [
    {
     "data": {
      "text/plain": [
       "torch.Size([784])"
      ]
     },
     "execution_count": 52,
     "metadata": {},
     "output_type": "execute_result"
    }
   ],
   "source": [
    "train_ds_list[0][0].shape"
   ]
  },
  {
   "cell_type": "code",
   "execution_count": 53,
   "metadata": {},
   "outputs": [
    {
     "data": {
      "text/plain": [
       "(torch.Size([256, 784]), torch.Size([256]))"
      ]
     },
     "execution_count": 53,
     "metadata": {},
     "output_type": "execute_result"
    }
   ],
   "source": [
    "from fastai.data.core import DataLoader\n",
    "from fastai.data.load import first\n",
    "\n",
    "dl = DataLoader(train_ds_list, batch_size=256)\n",
    "valid_dl = DataLoader(test_ds_list, batch_size=256)\n",
    "x_batch, yb = first(dl)\n",
    "\n",
    "x_batch.shape, yb.shape"
   ]
  },
  {
   "cell_type": "code",
   "execution_count": 54,
   "metadata": {},
   "outputs": [
    {
     "data": {
      "text/plain": [
       "tensor([ 0.0460,  0.0283, -0.0832,  0.1161, -0.0179, -0.1159, -0.0220,  0.1430,\n",
       "         0.0541, -0.0737], requires_grad=True)"
      ]
     },
     "execution_count": 54,
     "metadata": {},
     "output_type": "execute_result"
    }
   ],
   "source": [
    "weights = torch.randn(784, 10) / 784\n",
    "weights.requires_grad_()\n",
    "bias = torch.randn(10) / 10\n",
    "bias.requires_grad_()"
   ]
  },
  {
   "cell_type": "code",
   "execution_count": 55,
   "metadata": {},
   "outputs": [],
   "source": [
    "from torch import logsumexp\n",
    "\n",
    "def loss_func(preds: torch.Tensor, targets: torch.Tensor):\n",
    "    loss = logsumexp(preds, dim=1, keepdim=True) - preds\n",
    "    return loss[:, targets].mean()\n"
   ]
  },
  {
   "cell_type": "code",
   "execution_count": 56,
   "metadata": {},
   "outputs": [],
   "source": [
    "def calc_grad(x_batch, y_batch, model):\n",
    "    preds = model(x_batch)\n",
    "    loss = loss_func(preds, y_batch)\n",
    "    loss.backward()"
   ]
  },
  {
   "cell_type": "code",
   "execution_count": 57,
   "metadata": {},
   "outputs": [],
   "source": [
    "def train_one_epoch(model, lr, params: torch.Tensor, dl: DataLoader):\n",
    "    for batch, label in dl:\n",
    "        calc_grad(batch, label, model)\n",
    "        for param in params:\n",
    "            param.data -= lr * param.grad\n",
    "            param.grad.data.zero_()"
   ]
  },
  {
   "cell_type": "code",
   "execution_count": 58,
   "metadata": {},
   "outputs": [],
   "source": [
    "def batch_accuracy(preds_batch: torch.Tensor, yb: torch.Tensor):\n",
    "    correct = torch.argmax(preds_batch, 1) == yb\n",
    "    return correct.float().mean()"
   ]
  },
  {
   "cell_type": "code",
   "execution_count": 59,
   "metadata": {},
   "outputs": [],
   "source": [
    "def forward(x_batch: torch.Tensor):\n",
    "    return x_batch @ weights + bias"
   ]
  },
  {
   "cell_type": "code",
   "execution_count": 60,
   "metadata": {},
   "outputs": [],
   "source": [
    "def validate_epoch(model, dl):\n",
    "    accs = [batch_accuracy(model(xb), yb) for xb,yb in dl]\n",
    "    return round(torch.stack(accs).mean().item(), 4)"
   ]
  },
  {
   "cell_type": "code",
   "execution_count": 61,
   "metadata": {},
   "outputs": [
    {
     "data": {
      "text/plain": [
       "0.1115"
      ]
     },
     "execution_count": 61,
     "metadata": {},
     "output_type": "execute_result"
    }
   ],
   "source": [
    "validate_epoch(forward, valid_dl)"
   ]
  },
  {
   "cell_type": "code",
   "execution_count": 62,
   "metadata": {},
   "outputs": [
    {
     "data": {
      "text/plain": [
       "0.122"
      ]
     },
     "execution_count": 62,
     "metadata": {},
     "output_type": "execute_result"
    }
   ],
   "source": [
    "lr = 0.04\n",
    "params = [weights, bias]\n",
    "train_one_epoch(forward, lr, params, dl)\n",
    "validate_epoch(forward, valid_dl)"
   ]
  },
  {
   "cell_type": "code",
   "execution_count": 63,
   "metadata": {},
   "outputs": [
    {
     "name": "stdout",
     "output_type": "stream",
     "text": [
      "0.208\n",
      "0.3567\n",
      "0.4359\n",
      "0.4838\n",
      "0.5238\n",
      "0.5494\n",
      "0.5715\n",
      "0.5887\n",
      "0.6024\n",
      "0.6145\n",
      "0.6261\n",
      "0.6359\n",
      "0.6437\n",
      "0.6516\n",
      "0.6587\n",
      "0.6637\n",
      "0.6683\n",
      "0.6732\n",
      "0.6782\n",
      "0.6826\n",
      "0.6865\n",
      "0.6906\n",
      "0.6939\n",
      "0.6978\n",
      "0.7009\n",
      "0.7045\n",
      "0.7076\n",
      "0.7104\n",
      "0.7123\n",
      "0.7141\n",
      "0.7168\n",
      "0.7187\n",
      "0.7204\n",
      "0.7219\n",
      "0.7247\n",
      "0.7266\n",
      "0.7289\n",
      "0.7297\n",
      "0.7312\n",
      "0.7325\n"
     ]
    }
   ],
   "source": [
    "for i in range(40):\n",
    "    train_one_epoch(forward, lr, params, dl)\n",
    "    print(validate_epoch(forward, valid_dl))"
   ]
  },
  {
   "cell_type": "code",
   "execution_count": 168,
   "metadata": {},
   "outputs": [],
   "source": [
    "from torch import nn\n",
    "\n",
    "model = nn.Sequential(\n",
    "    nn.Linear(28*28, 28*28*3),\n",
    "    nn.ReLU(),\n",
    "    nn.Linear(28*28*3, 28*28*3),\n",
    "    nn.ReLU(),\n",
    "    nn.Linear(28*28*3, 10),\n",
    ")\n",
    "\n",
    "optimizer = torch.optim.SGD(model.parameters(), lr=0.1)\n",
    "\n",
    "loss = nn.CrossEntropyLoss()"
   ]
  },
  {
   "cell_type": "code",
   "execution_count": 169,
   "metadata": {},
   "outputs": [],
   "source": [
    "# Training loop with proper PyTorch pattern\n",
    "device = torch.device('cuda' if torch.cuda.is_available() else 'cpu')\n",
    "def train_epoch(model: nn.Sequential, optimizer: torch.optim.Optimizer, loss_func: callable, dataloader: DataLoader):\n",
    "    for batch_x, batch_y in dataloader:\n",
    "        batch_x, batch_y = batch_x.to(device), batch_y.to(device)\n",
    "        optimizer.zero_grad()\n",
    "        preds = model(batch_x)\n",
    "        loss = loss_func(preds, batch_y)\n",
    "        loss.backward()\n",
    "        optimizer.step()\n",
    "    print(validate_epoch(model, valid_dl))"
   ]
  },
  {
   "cell_type": "code",
   "execution_count": 170,
   "metadata": {},
   "outputs": [
    {
     "name": "stdout",
     "output_type": "stream",
     "text": [
      "0.122\n",
      "0.122\n",
      "0.1349\n",
      "0.1782\n",
      "0.2086\n",
      "0.2535\n",
      "0.2948\n",
      "0.3043\n"
     ]
    },
    {
     "ename": "KeyboardInterrupt",
     "evalue": "",
     "output_type": "error",
     "traceback": [
      "\u001b[31m---------------------------------------------------------------------------\u001b[39m",
      "\u001b[31mKeyboardInterrupt\u001b[39m                         Traceback (most recent call last)",
      "\u001b[36mCell\u001b[39m\u001b[36m \u001b[39m\u001b[32mIn[170]\u001b[39m\u001b[32m, line 2\u001b[39m\n\u001b[32m      1\u001b[39m \u001b[38;5;28;01mfor\u001b[39;00m _ \u001b[38;5;129;01min\u001b[39;00m \u001b[38;5;28mrange\u001b[39m(\u001b[32m50\u001b[39m):\n\u001b[32m----> \u001b[39m\u001b[32m2\u001b[39m     \u001b[43mtrain_epoch\u001b[49m\u001b[43m(\u001b[49m\u001b[43mmodel\u001b[49m\u001b[43m,\u001b[49m\u001b[43m \u001b[49m\u001b[43moptimizer\u001b[49m\u001b[43m,\u001b[49m\u001b[43m \u001b[49m\u001b[43mloss\u001b[49m\u001b[43m,\u001b[49m\u001b[43m \u001b[49m\u001b[43mdl\u001b[49m\u001b[43m)\u001b[49m\n",
      "\u001b[36mCell\u001b[39m\u001b[36m \u001b[39m\u001b[32mIn[169]\u001b[39m\u001b[32m, line 7\u001b[39m, in \u001b[36mtrain_epoch\u001b[39m\u001b[34m(model, optimizer, loss_func, dataloader)\u001b[39m\n\u001b[32m      5\u001b[39m     preds = model(batch_x)\n\u001b[32m      6\u001b[39m     loss = loss_func(preds, batch_y)\n\u001b[32m----> \u001b[39m\u001b[32m7\u001b[39m     \u001b[43mloss\u001b[49m\u001b[43m.\u001b[49m\u001b[43mbackward\u001b[49m\u001b[43m(\u001b[49m\u001b[43m)\u001b[49m\n\u001b[32m      8\u001b[39m     optimizer.step()\n\u001b[32m      9\u001b[39m \u001b[38;5;28mprint\u001b[39m(validate_epoch(model, valid_dl))\n",
      "\u001b[36mFile \u001b[39m\u001b[32m/opt/homebrew/Caskroom/miniforge/base/envs/fastbook/lib/python3.12/site-packages/torch/_tensor.py:581\u001b[39m, in \u001b[36mTensor.backward\u001b[39m\u001b[34m(self, gradient, retain_graph, create_graph, inputs)\u001b[39m\n\u001b[32m    571\u001b[39m \u001b[38;5;28;01mif\u001b[39;00m has_torch_function_unary(\u001b[38;5;28mself\u001b[39m):\n\u001b[32m    572\u001b[39m     \u001b[38;5;28;01mreturn\u001b[39;00m handle_torch_function(\n\u001b[32m    573\u001b[39m         Tensor.backward,\n\u001b[32m    574\u001b[39m         (\u001b[38;5;28mself\u001b[39m,),\n\u001b[32m   (...)\u001b[39m\u001b[32m    579\u001b[39m         inputs=inputs,\n\u001b[32m    580\u001b[39m     )\n\u001b[32m--> \u001b[39m\u001b[32m581\u001b[39m \u001b[43mtorch\u001b[49m\u001b[43m.\u001b[49m\u001b[43mautograd\u001b[49m\u001b[43m.\u001b[49m\u001b[43mbackward\u001b[49m\u001b[43m(\u001b[49m\n\u001b[32m    582\u001b[39m \u001b[43m    \u001b[49m\u001b[38;5;28;43mself\u001b[39;49m\u001b[43m,\u001b[49m\u001b[43m \u001b[49m\u001b[43mgradient\u001b[49m\u001b[43m,\u001b[49m\u001b[43m \u001b[49m\u001b[43mretain_graph\u001b[49m\u001b[43m,\u001b[49m\u001b[43m \u001b[49m\u001b[43mcreate_graph\u001b[49m\u001b[43m,\u001b[49m\u001b[43m \u001b[49m\u001b[43minputs\u001b[49m\u001b[43m=\u001b[49m\u001b[43minputs\u001b[49m\n\u001b[32m    583\u001b[39m \u001b[43m\u001b[49m\u001b[43m)\u001b[49m\n",
      "\u001b[36mFile \u001b[39m\u001b[32m/opt/homebrew/Caskroom/miniforge/base/envs/fastbook/lib/python3.12/site-packages/torch/autograd/__init__.py:347\u001b[39m, in \u001b[36mbackward\u001b[39m\u001b[34m(tensors, grad_tensors, retain_graph, create_graph, grad_variables, inputs)\u001b[39m\n\u001b[32m    342\u001b[39m     retain_graph = create_graph\n\u001b[32m    344\u001b[39m \u001b[38;5;66;03m# The reason we repeat the same comment below is that\u001b[39;00m\n\u001b[32m    345\u001b[39m \u001b[38;5;66;03m# some Python versions print out the first line of a multi-line function\u001b[39;00m\n\u001b[32m    346\u001b[39m \u001b[38;5;66;03m# calls in the traceback and some print out the last line\u001b[39;00m\n\u001b[32m--> \u001b[39m\u001b[32m347\u001b[39m \u001b[43m_engine_run_backward\u001b[49m\u001b[43m(\u001b[49m\n\u001b[32m    348\u001b[39m \u001b[43m    \u001b[49m\u001b[43mtensors\u001b[49m\u001b[43m,\u001b[49m\n\u001b[32m    349\u001b[39m \u001b[43m    \u001b[49m\u001b[43mgrad_tensors_\u001b[49m\u001b[43m,\u001b[49m\n\u001b[32m    350\u001b[39m \u001b[43m    \u001b[49m\u001b[43mretain_graph\u001b[49m\u001b[43m,\u001b[49m\n\u001b[32m    351\u001b[39m \u001b[43m    \u001b[49m\u001b[43mcreate_graph\u001b[49m\u001b[43m,\u001b[49m\n\u001b[32m    352\u001b[39m \u001b[43m    \u001b[49m\u001b[43minputs\u001b[49m\u001b[43m,\u001b[49m\n\u001b[32m    353\u001b[39m \u001b[43m    \u001b[49m\u001b[43mallow_unreachable\u001b[49m\u001b[43m=\u001b[49m\u001b[38;5;28;43;01mTrue\u001b[39;49;00m\u001b[43m,\u001b[49m\n\u001b[32m    354\u001b[39m \u001b[43m    \u001b[49m\u001b[43maccumulate_grad\u001b[49m\u001b[43m=\u001b[49m\u001b[38;5;28;43;01mTrue\u001b[39;49;00m\u001b[43m,\u001b[49m\n\u001b[32m    355\u001b[39m \u001b[43m\u001b[49m\u001b[43m)\u001b[49m\n",
      "\u001b[36mFile \u001b[39m\u001b[32m/opt/homebrew/Caskroom/miniforge/base/envs/fastbook/lib/python3.12/site-packages/torch/autograd/graph.py:825\u001b[39m, in \u001b[36m_engine_run_backward\u001b[39m\u001b[34m(t_outputs, *args, **kwargs)\u001b[39m\n\u001b[32m    823\u001b[39m     unregister_hooks = _register_logging_hooks_on_whole_graph(t_outputs)\n\u001b[32m    824\u001b[39m \u001b[38;5;28;01mtry\u001b[39;00m:\n\u001b[32m--> \u001b[39m\u001b[32m825\u001b[39m     \u001b[38;5;28;01mreturn\u001b[39;00m \u001b[43mVariable\u001b[49m\u001b[43m.\u001b[49m\u001b[43m_execution_engine\u001b[49m\u001b[43m.\u001b[49m\u001b[43mrun_backward\u001b[49m\u001b[43m(\u001b[49m\u001b[43m  \u001b[49m\u001b[38;5;66;43;03m# Calls into the C++ engine to run the backward pass\u001b[39;49;00m\n\u001b[32m    826\u001b[39m \u001b[43m        \u001b[49m\u001b[43mt_outputs\u001b[49m\u001b[43m,\u001b[49m\u001b[43m \u001b[49m\u001b[43m*\u001b[49m\u001b[43margs\u001b[49m\u001b[43m,\u001b[49m\u001b[43m \u001b[49m\u001b[43m*\u001b[49m\u001b[43m*\u001b[49m\u001b[43mkwargs\u001b[49m\n\u001b[32m    827\u001b[39m \u001b[43m    \u001b[49m\u001b[43m)\u001b[49m  \u001b[38;5;66;03m# Calls into the C++ engine to run the backward pass\u001b[39;00m\n\u001b[32m    828\u001b[39m \u001b[38;5;28;01mfinally\u001b[39;00m:\n\u001b[32m    829\u001b[39m     \u001b[38;5;28;01mif\u001b[39;00m attach_logging_hooks:\n",
      "\u001b[31mKeyboardInterrupt\u001b[39m: "
     ]
    }
   ],
   "source": [
    "for _ in range(50):\n",
    "    train_epoch(model, optimizer, loss, dl)"
   ]
  }
 ],
 "metadata": {
  "kernelspec": {
   "display_name": "fastbook",
   "language": "python",
   "name": "python3"
  },
  "language_info": {
   "codemirror_mode": {
    "name": "ipython",
    "version": 3
   },
   "file_extension": ".py",
   "mimetype": "text/x-python",
   "name": "python",
   "nbconvert_exporter": "python",
   "pygments_lexer": "ipython3",
   "version": "3.12.11"
  }
 },
 "nbformat": 4,
 "nbformat_minor": 2
}

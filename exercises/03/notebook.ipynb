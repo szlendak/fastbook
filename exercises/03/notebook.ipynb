{
 "cells": [
  {
   "cell_type": "code",
   "execution_count": 117,
   "metadata": {
    "tags": []
   },
   "outputs": [],
   "source": [
    "from fastai.vision.utils import URLs, untar_data\n",
    "from pathlib import Path\n",
    "path = untar_data(URLs.MNIST)"
   ]
  },
  {
   "cell_type": "code",
   "execution_count": 118,
   "metadata": {
    "tags": []
   },
   "outputs": [
    {
     "data": {
      "text/plain": [
       "(#5923) [Path('/root/.fastai/data/mnist_png/training/0/639.png'),Path('/root/.fastai/data/mnist_png/training/0/39850.png'),Path('/root/.fastai/data/mnist_png/training/0/49171.png'),Path('/root/.fastai/data/mnist_png/training/0/21614.png'),Path('/root/.fastai/data/mnist_png/training/0/40820.png'),Path('/root/.fastai/data/mnist_png/training/0/11792.png'),Path('/root/.fastai/data/mnist_png/training/0/8187.png'),Path('/root/.fastai/data/mnist_png/training/0/38614.png'),Path('/root/.fastai/data/mnist_png/training/0/23250.png'),Path('/root/.fastai/data/mnist_png/training/0/1590.png'),Path('/root/.fastai/data/mnist_png/training/0/12741.png'),Path('/root/.fastai/data/mnist_png/training/0/20225.png'),Path('/root/.fastai/data/mnist_png/training/0/30087.png'),Path('/root/.fastai/data/mnist_png/training/0/4002.png'),Path('/root/.fastai/data/mnist_png/training/0/59313.png'),Path('/root/.fastai/data/mnist_png/training/0/19859.png'),Path('/root/.fastai/data/mnist_png/training/0/41051.png'),Path('/root/.fastai/data/mnist_png/training/0/48176.png'),Path('/root/.fastai/data/mnist_png/training/0/4686.png'),Path('/root/.fastai/data/mnist_png/training/0/12796.png')...]"
      ]
     },
     "execution_count": 118,
     "metadata": {},
     "output_type": "execute_result"
    }
   ],
   "source": [
    "(path / \"training\" / \"0\").ls()"
   ]
  },
  {
   "cell_type": "code",
   "execution_count": 120,
   "metadata": {
    "tags": []
   },
   "outputs": [
    {
     "ename": "FileNotFoundError",
     "evalue": "[Errno 2] No such file or directory: '/Users/szlendak/.fastai/data/mnist_png/training/9/36655.png'",
     "output_type": "error",
     "traceback": [
      "\u001b[0;31m---------------------------------------------------------------------------\u001b[0m",
      "\u001b[0;31mFileNotFoundError\u001b[0m                         Traceback (most recent call last)",
      "Cell \u001b[0;32mIn[120], line 4\u001b[0m\n\u001b[1;32m      1\u001b[0m \u001b[38;5;66;03m# Let's explore one example\u001b[39;00m\n\u001b[1;32m      2\u001b[0m \u001b[38;5;28;01mfrom\u001b[39;00m \u001b[38;5;21;01mfastai\u001b[39;00m\u001b[38;5;21;01m.\u001b[39;00m\u001b[38;5;21;01mvision\u001b[39;00m\u001b[38;5;21;01m.\u001b[39;00m\u001b[38;5;21;01mdata\u001b[39;00m \u001b[38;5;28;01mimport\u001b[39;00m Image\n\u001b[0;32m----> 4\u001b[0m file \u001b[38;5;241m=\u001b[39m \u001b[43mImage\u001b[49m\u001b[38;5;241;43m.\u001b[39;49m\u001b[43mopen\u001b[49m\u001b[43m(\u001b[49m\u001b[43mPath\u001b[49m\u001b[43m(\u001b[49m\u001b[38;5;124;43m'\u001b[39;49m\u001b[38;5;124;43m/Users/szlendak/.fastai/data/mnist_png/training/9/36655.png\u001b[39;49m\u001b[38;5;124;43m'\u001b[39;49m\u001b[43m)\u001b[49m\u001b[43m)\u001b[49m\n\u001b[1;32m      5\u001b[0m file\u001b[38;5;241m.\u001b[39mshape\n",
      "File \u001b[0;32m/usr/local/lib/python3.11/dist-packages/PIL/Image.py:3236\u001b[0m, in \u001b[0;36mopen\u001b[0;34m(fp, mode, formats)\u001b[0m\n\u001b[1;32m   3233\u001b[0m     filename \u001b[38;5;241m=\u001b[39m fp\n\u001b[1;32m   3235\u001b[0m \u001b[38;5;28;01mif\u001b[39;00m filename:\n\u001b[0;32m-> 3236\u001b[0m     fp \u001b[38;5;241m=\u001b[39m builtins\u001b[38;5;241m.\u001b[39mopen(filename, \u001b[38;5;124m\"\u001b[39m\u001b[38;5;124mrb\u001b[39m\u001b[38;5;124m\"\u001b[39m)\n\u001b[1;32m   3237\u001b[0m     exclusive_fp \u001b[38;5;241m=\u001b[39m \u001b[38;5;28;01mTrue\u001b[39;00m\n\u001b[1;32m   3239\u001b[0m \u001b[38;5;28;01mtry\u001b[39;00m:\n",
      "\u001b[0;31mFileNotFoundError\u001b[0m: [Errno 2] No such file or directory: '/Users/szlendak/.fastai/data/mnist_png/training/9/36655.png'"
     ]
    }
   ],
   "source": [
    "# Let's explore one example\n",
    "from fastai.vision.data import Image\n",
    "\n",
    "file = Image.open(Path('/Users/szlendak/.fastai/data/mnist_png/training/9/36655.png'))\n",
    "file.shape"
   ]
  },
  {
   "cell_type": "code",
   "execution_count": 121,
   "metadata": {
    "tags": []
   },
   "outputs": [],
   "source": [
    "import numpy as np\n",
    "import torch\n",
    "from typing import Literal\n",
    "device = torch.device('cuda' if torch.cuda.is_available() else 'cpu')\n",
    "def get_tensor_list(i: int, dataset: Literal[\"training\", \"testing\"]) -> list[torch.Tensor]:\n",
    "    digit_path = Path(path / dataset / str(i))\n",
    "    return [torch.tensor(np.array(Image.open(img_path))).view(-1, 28 * 28).squeeze(0)/255 for img_path in digit_path.ls()]\n",
    "\n",
    "data_dict_train = {i: get_tensor_list(i, \"training\") for i in range(10)}\n",
    "data_dict_test = {i: get_tensor_list(i, \"testing\") for i in range(10)}"
   ]
  },
  {
   "cell_type": "code",
   "execution_count": 122,
   "metadata": {
    "tags": []
   },
   "outputs": [],
   "source": [
    "train_ds_list = [(tensor, label) for label, category in data_dict_train.items() for tensor in category]\n",
    "test_ds_list = [(tensor, label) for label, category in data_dict_test.items() for tensor in category]"
   ]
  },
  {
   "cell_type": "code",
   "execution_count": 123,
   "metadata": {
    "tags": []
   },
   "outputs": [
    {
     "data": {
      "text/plain": [
       "torch.Size([784])"
      ]
     },
     "execution_count": 123,
     "metadata": {},
     "output_type": "execute_result"
    }
   ],
   "source": [
    "train_ds_list[0][0].shape"
   ]
  },
  {
   "cell_type": "code",
   "execution_count": 124,
   "metadata": {
    "tags": []
   },
   "outputs": [
    {
     "data": {
      "text/plain": [
       "(torch.Size([1024, 784]), torch.Size([1024]))"
      ]
     },
     "execution_count": 124,
     "metadata": {},
     "output_type": "execute_result"
    }
   ],
   "source": [
    "from fastai.data.core import DataLoader\n",
    "from fastai.data.load import first\n",
    "\n",
    "dl = DataLoader(train_ds_list, batch_size=1024, device=device)\n",
    "valid_dl = DataLoader(test_ds_list, batch_size=1024, device=device)\n",
    "x_batch, yb = first(dl)\n",
    "\n",
    "x_batch.shape, yb.shape"
   ]
  },
  {
   "cell_type": "code",
   "execution_count": 125,
   "metadata": {
    "tags": []
   },
   "outputs": [
    {
     "data": {
      "text/plain": [
       "tensor([ 0.1695,  0.1674,  0.1208, -0.1730,  0.1183, -0.0726,  0.0079, -0.1693,\n",
       "         0.0017, -0.0921], device='cuda:0', requires_grad=True)"
      ]
     },
     "execution_count": 125,
     "metadata": {},
     "output_type": "execute_result"
    }
   ],
   "source": [
    "weights = torch.randn(784, 10) / 784\n",
    "weights = weights.to(device)\n",
    "weights.requires_grad_()\n",
    "bias = torch.randn(10) / 10\n",
    "bias = bias.to(device)\n",
    "bias.requires_grad_()"
   ]
  },
  {
   "cell_type": "code",
   "execution_count": 126,
   "metadata": {
    "tags": []
   },
   "outputs": [],
   "source": [
    "from torch import logsumexp\n",
    "\n",
    "def loss_func(preds: torch.Tensor, targets: torch.Tensor):\n",
    "    loss = logsumexp(preds, dim=1, keepdim=True) - preds\n",
    "    return loss[:, targets].mean()\n"
   ]
  },
  {
   "cell_type": "code",
   "execution_count": 127,
   "metadata": {
    "tags": []
   },
   "outputs": [],
   "source": [
    "def calc_grad(x_batch, y_batch, model):\n",
    "    preds = model(x_batch)\n",
    "    loss = loss_func(preds, y_batch)\n",
    "    loss.backward()"
   ]
  },
  {
   "cell_type": "code",
   "execution_count": 128,
   "metadata": {
    "tags": []
   },
   "outputs": [],
   "source": [
    "def train_one_epoch(model, lr, params: torch.Tensor, dl: DataLoader):\n",
    "    for batch, label in dl:\n",
    "        calc_grad(batch, label, model)\n",
    "        for param in params:\n",
    "            param.data -= lr * param.grad\n",
    "            param.grad.data.zero_()"
   ]
  },
  {
   "cell_type": "code",
   "execution_count": 129,
   "metadata": {
    "tags": []
   },
   "outputs": [],
   "source": [
    "def batch_accuracy(preds_batch: torch.Tensor, yb: torch.Tensor):\n",
    "    correct = torch.argmax(preds_batch, 1) == yb\n",
    "    return correct.float().mean()"
   ]
  },
  {
   "cell_type": "code",
   "execution_count": 130,
   "metadata": {
    "tags": []
   },
   "outputs": [],
   "source": [
    "def forward(x_batch: torch.Tensor):\n",
    "    return x_batch @ weights + bias"
   ]
  },
  {
   "cell_type": "code",
   "execution_count": 131,
   "metadata": {
    "tags": []
   },
   "outputs": [],
   "source": [
    "def validate_epoch(model, dl):\n",
    "    accs = [batch_accuracy(model(xb), yb) for xb,yb in dl]\n",
    "    return round(torch.stack(accs).mean().item(), 4)"
   ]
  },
  {
   "cell_type": "code",
   "execution_count": 132,
   "metadata": {
    "tags": []
   },
   "outputs": [
    {
     "data": {
      "text/plain": [
       "0.1163"
      ]
     },
     "execution_count": 132,
     "metadata": {},
     "output_type": "execute_result"
    }
   ],
   "source": [
    "validate_epoch(forward, valid_dl)"
   ]
  },
  {
   "cell_type": "code",
   "execution_count": 133,
   "metadata": {
    "tags": []
   },
   "outputs": [
    {
     "data": {
      "text/plain": [
       "0.1221"
      ]
     },
     "execution_count": 133,
     "metadata": {},
     "output_type": "execute_result"
    }
   ],
   "source": [
    "lr = 0.04\n",
    "params = [weights, bias]\n",
    "train_one_epoch(forward, lr, params, dl)\n",
    "validate_epoch(forward, valid_dl)"
   ]
  },
  {
   "cell_type": "code",
   "execution_count": 134,
   "metadata": {
    "tags": []
   },
   "outputs": [
    {
     "name": "stdout",
     "output_type": "stream",
     "text": [
      "0.2669\n",
      "0.424\n",
      "0.5147\n",
      "0.5722\n",
      "0.6154\n",
      "0.648\n",
      "0.6738\n",
      "0.694\n",
      "0.7103\n",
      "0.7246\n",
      "0.7397\n",
      "0.7504\n",
      "0.7611\n",
      "0.7698\n",
      "0.7778\n",
      "0.7846\n",
      "0.791\n",
      "0.7964\n",
      "0.8018\n",
      "0.8056\n",
      "0.8094\n",
      "0.8127\n",
      "0.8161\n",
      "0.8187\n",
      "0.8216\n",
      "0.824\n",
      "0.8266\n",
      "0.8279\n",
      "0.8295\n",
      "0.8318\n",
      "0.8336\n",
      "0.836\n",
      "0.8373\n",
      "0.8379\n",
      "0.8394\n",
      "0.8407\n",
      "0.842\n",
      "0.8437\n",
      "0.8449\n",
      "0.8461\n"
     ]
    }
   ],
   "source": [
    "for i in range(40):\n",
    "    train_one_epoch(forward, lr, params, dl)\n",
    "    print(validate_epoch(forward, valid_dl))"
   ]
  },
  {
   "cell_type": "code",
   "execution_count": 135,
   "metadata": {
    "tags": []
   },
   "outputs": [],
   "source": [
    "from torch import nn\n",
    "model = nn.Sequential(\n",
    "    nn.Linear(28*28, 28*28*3),\n",
    "    nn.ReLU(),\n",
    "    nn.Linear(28*28*3, 28*28*3),\n",
    "    nn.ReLU(),\n",
    "    nn.Linear(28*28*3, 10),\n",
    ")\n",
    "if device.type == \"cuda\":\n",
    "    model = model.cuda()\n",
    "\n",
    "optimizer = torch.optim.SGD(model.parameters(), lr=0.1)\n",
    "\n",
    "loss = nn.CrossEntropyLoss()"
   ]
  },
  {
   "cell_type": "code",
   "execution_count": 136,
   "metadata": {
    "tags": []
   },
   "outputs": [],
   "source": [
    "# Training loop with proper PyTorch pattern\n",
    "def train_epoch(model: nn.Sequential, optimizer: torch.optim.Optimizer, loss_func: callable, dataloader: DataLoader):\n",
    "    for batch_x, batch_y in dataloader:\n",
    "        batch_x, batch_y = batch_x.to(device), batch_y.to(device)\n",
    "        optimizer.zero_grad()\n",
    "        preds = model(batch_x)\n",
    "        loss = loss_func(preds, batch_y)\n",
    "        loss.backward()\n",
    "        optimizer.step()\n",
    "    print(validate_epoch(model, valid_dl))"
   ]
  },
  {
   "cell_type": "code",
   "execution_count": 140,
   "metadata": {
    "tags": []
   },
   "outputs": [
    {
     "name": "stdout",
     "output_type": "stream",
     "text": [
      "0.9758\n",
      "0.976\n",
      "0.9761\n",
      "0.9763\n",
      "0.9767\n",
      "0.9769\n",
      "0.9769\n",
      "0.9769\n",
      "0.9769\n",
      "0.9768\n",
      "0.9771\n",
      "0.9772\n",
      "0.9775\n",
      "0.9774\n",
      "0.9775\n",
      "0.9777\n",
      "0.9779\n",
      "0.9779\n",
      "0.9779\n",
      "0.9779\n",
      "0.978\n",
      "0.978\n",
      "0.9781\n",
      "0.9781\n",
      "0.9782\n",
      "0.9784\n",
      "0.9784\n",
      "0.9784\n",
      "0.9784\n",
      "0.9784\n",
      "0.9789\n",
      "0.9789\n",
      "0.9789\n",
      "0.9788\n",
      "0.9788\n",
      "0.9787\n",
      "0.9789\n",
      "0.9789\n",
      "0.9787\n",
      "0.9787\n",
      "0.9787\n",
      "0.9787\n",
      "0.9788\n",
      "0.9789\n",
      "0.9789\n",
      "0.9791\n",
      "0.9791\n",
      "0.9791\n",
      "0.9792\n",
      "0.9794\n"
     ]
    }
   ],
   "source": [
    "for _ in range(50):\n",
    "    train_epoch(model, optimizer, loss, dl)"
   ]
  },
  {
   "cell_type": "code",
   "execution_count": null,
   "metadata": {},
   "outputs": [],
   "source": []
  }
 ],
 "metadata": {
  "kernelspec": {
   "display_name": "fastbook",
   "language": "python",
   "name": "python3"
  },
  "language_info": {
   "codemirror_mode": {
    "name": "ipython",
    "version": 3
   },
   "file_extension": ".py",
   "mimetype": "text/x-python",
   "name": "python",
   "nbconvert_exporter": "python",
   "pygments_lexer": "ipython3",
   "version": "3.12.11"
  }
 },
 "nbformat": 4,
 "nbformat_minor": 4
}
